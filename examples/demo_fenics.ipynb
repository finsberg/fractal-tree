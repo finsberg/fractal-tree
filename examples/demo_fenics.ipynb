{
 "cells": [
  {
   "attachments": {},
   "cell_type": "markdown",
   "id": "fecff56c",
   "metadata": {},
   "source": [
    "# Using `FEniCS`\n",
    "\n",
    "In this demo we will show how to generate Purkinje networks on a patient specific mesh from the paper [Efficient estimation of personalized\n",
    "biventricular mechanical function employing gradient-based optimization](https://doi.org/10.1002/cnm.2982). Instructions on how to get the data is described in more detail [here](https://bitbucket.org/finsberg/efficient-estimation-of-personalized-biventricular-mechanical/src/master/). First you need to download the data. Next we will load the data with [fenics-pulse](https://github.com/finsberg/pulse)\n"
   ]
  },
  {
   "cell_type": "code",
   "execution_count": null,
   "id": "f4752b09",
   "metadata": {},
   "outputs": [],
   "source": [
    "import numpy\n",
    "import logging\n",
    "import pulse\n",
    "import dolfin\n",
    "from fractal_tree import generate_fractal_tree, FractalTreeParameters, Mesh"
   ]
  },
  {
   "cell_type": "markdown",
   "id": "4404727a",
   "metadata": {},
   "source": [
    "Set logging level and a seed for reproducibility. "
   ]
  },
  {
   "cell_type": "code",
   "execution_count": null,
   "id": "66e52e22",
   "metadata": {},
   "outputs": [],
   "source": [
    "logging.basicConfig(level=logging.INFO)\n",
    "numpy.random.seed(12)"
   ]
  },
  {
   "attachments": {},
   "cell_type": "markdown",
   "id": "884b0e30",
   "metadata": {},
   "source": [
    "Let us download the data from the paper"
   ]
  },
  {
   "cell_type": "code",
   "execution_count": null,
   "id": "46425b59",
   "metadata": {},
   "outputs": [],
   "source": [
    "import urllib.request\n",
    "import tarfile\n",
    "import time\n",
    "link = \"https://www.dropbox.com/s/pxbx3ohix8e3jsx/data.tar?dl=1\"\n",
    "path = \"data.tar\"\n",
    "print(\"Downloading data\")\n",
    "urllib.request.urlretrieve(link, path)\n",
    "time.sleep(1.0)\n",
    "print(\"Done downloading data. Extracting...\")\n",
    "data_file = tarfile.open(name=path, mode=\"r\")\n",
    "data_file.extractall()\n",
    "print(\"Done extracting\")"
   ]
  },
  {
   "cell_type": "markdown",
   "id": "e7911eca",
   "metadata": {},
   "source": [
    "When you download the data from the paper you will get a tarball with the data. We assume here that the data is extracted into a folder mesh. Here we will use the medium mesh for case 1"
   ]
  },
  {
   "cell_type": "code",
   "execution_count": null,
   "id": "a8bdfe33",
   "metadata": {},
   "outputs": [],
   "source": [
    "case = \"CASE1_med\"\n",
    "path = f\"data/mesh/{case}_60.h5\""
   ]
  },
  {
   "cell_type": "markdown",
   "id": "39963823",
   "metadata": {},
   "source": [
    "We will load the data with `pulse`"
   ]
  },
  {
   "cell_type": "code",
   "execution_count": null,
   "id": "2a7d033d",
   "metadata": {},
   "outputs": [],
   "source": [
    "geo = pulse.HeartGeometry.from_file(path)"
   ]
  },
  {
   "cell_type": "markdown",
   "id": "ef6de232",
   "metadata": {},
   "source": [
    "We would like to visualize the mesh in Paraview afterwards, so let us save the mesh in an XDMF file. "
   ]
  },
  {
   "cell_type": "code",
   "execution_count": null,
   "id": "88d08ce1",
   "metadata": {},
   "outputs": [],
   "source": [
    "with dolfin.XDMFFile(f\"{case}_mesh.xdmf\") as xdmf:\n",
    "    xdmf.write(geo.mesh)"
   ]
  },
  {
   "cell_type": "markdown",
   "id": "3b34749e",
   "metadata": {},
   "source": [
    "To load the mesh into `fractal-tree` we need to first get the coordinates"
   ]
  },
  {
   "cell_type": "code",
   "execution_count": null,
   "id": "ab61b9fb",
   "metadata": {},
   "outputs": [],
   "source": [
    "verts = geo.mesh.coordinates()"
   ]
  },
  {
   "cell_type": "markdown",
   "id": "e6f764ad",
   "metadata": {},
   "source": [
    "and the connectivities"
   ]
  },
  {
   "cell_type": "code",
   "execution_count": null,
   "id": "beaa1e12",
   "metadata": {},
   "outputs": [],
   "source": [
    "connectivity = []\n",
    "for facet in dolfin.facets(geo.mesh):\n",
    "    if geo.ffun[facet] == geo.markers[\"ENDO_RV\"][0]:\n",
    "        connectivity.append(facet.entities(0))\n",
    "connectivity = numpy.array(connectivity)"
   ]
  },
  {
   "cell_type": "markdown",
   "id": "ed09775a",
   "metadata": {},
   "source": [
    "Alternatively we could save the facet function to `.xdmf` and load it with `meshio`\n",
    "\n",
    "```\n",
    "ffun_file = f\"{case}_ffun.xdmf\"\n",
    "with dolfin.XDMFFile(ffun_file) as xdmf:\n",
    "    xdmf.write(geo.ffun)\n",
    "msh = meshio.read(\"data/mesh/CASE1_med_ffun.xdmf\")\n",
    "marker = 20  # ENDO RV\n",
    "conn = msh.cells[0].data[msh.cell_data[\"f\"][0].squeeze() == marker, :]\n",
    "verts = msh.points\n",
    "```\n",
    "\n",
    "Next we will choose the initial node. Here you could open the mesh in Paraview and find the approximate coordinate to this node, and then find the the closest node\n"
   ]
  },
  {
   "cell_type": "code",
   "execution_count": null,
   "id": "9c2601c2",
   "metadata": {},
   "outputs": [],
   "source": [
    "init_node = [1.0, 15.85, 15.36]\n",
    "index = numpy.linalg.norm(numpy.subtract(verts, init_node), axis=1).argmin()"
   ]
  },
  {
   "cell_type": "markdown",
   "id": "6053b2e1",
   "metadata": {},
   "source": [
    "Now we can create the mesh for the fractal tree\n"
   ]
  },
  {
   "cell_type": "code",
   "execution_count": null,
   "id": "b1884c49",
   "metadata": {},
   "outputs": [],
   "source": [
    "mesh = Mesh(verts=verts, connectivity=connectivity, init_node=verts[index, :])"
   ]
  },
  {
   "cell_type": "markdown",
   "id": "7613ebf1",
   "metadata": {},
   "source": [
    "We set the fractal tree parameters and choose the initial direction as pointing in the positive $x$-direction"
   ]
  },
  {
   "cell_type": "code",
   "execution_count": null,
   "id": "ff1a3f13",
   "metadata": {},
   "outputs": [],
   "source": [
    "param = FractalTreeParameters(\n",
    "    filename=\"case1-rv\",\n",
    "    N_it=300,\n",
    "    length=0.3,\n",
    "    initial_direction=numpy.array([1, 0, 0]),\n",
    ")"
   ]
  },
  {
   "cell_type": "markdown",
   "id": "b35bbc66",
   "metadata": {},
   "source": [
    "and finally run the fractal tree algorithm\n"
   ]
  },
  {
   "cell_type": "code",
   "execution_count": null,
   "id": "f4e27859",
   "metadata": {},
   "outputs": [],
   "source": [
    "branches, nodes = generate_fractal_tree(mesh, param)"
   ]
  },
  {
   "cell_type": "markdown",
   "id": "4e2f870e",
   "metadata": {},
   "source": [
    "```{figure} ../docs/figures/fenics.jpg\n",
    "---\n",
    "name: fenics.png\n",
    "---\n",
    "Purkinje networks on a patient specific biventricular mesh\n",
    "```"
   ]
  }
 ],
 "metadata": {
  "jupytext": {
   "cell_metadata_filter": "-all",
   "main_language": "python",
   "notebook_metadata_filter": "-all"
  },
  "language_info": {
   "name": "python"
  }
 },
 "nbformat": 4,
 "nbformat_minor": 5
}
